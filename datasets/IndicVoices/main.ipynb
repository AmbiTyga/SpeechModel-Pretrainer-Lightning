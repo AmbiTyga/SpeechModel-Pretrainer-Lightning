{
 "cells": [
  {
   "cell_type": "markdown",
   "id": "d741f2ce-e441-40a6-bd2f-6e507c8893a6",
   "metadata": {},
   "source": [
    "## Filter Dataset based on duration"
   ]
  },
  {
   "cell_type": "code",
   "execution_count": 1,
   "id": "e4ea0287-5fa2-4652-8924-bf23cb847d18",
   "metadata": {},
   "outputs": [],
   "source": [
    "import pandas as pd\n",
    "from multiprocessing import Pool\n",
    "from glob import glob\n",
    "from pydub import AudioSegment\n",
    "import os\n",
    "\n",
    "## Filter dataset based on duration\n",
    "### Start with v1\n",
    "audios = pd.DataFrame(glob(\"v1/*/v1a/train/*.wav\"), columns=['path'])\n",
    "audios['path'] = audios['path'].apply(lambda x: x.strip())\n",
    "\n",
    "def get_duration(x):\n",
    "    return AudioSegment.from_file(x).duration_seconds\n",
    "\n",
    "## Using Multithreading\n",
    "with Pool(os.cpu_count()//2) as p:\n",
    "    audios['duration'] = list(p.imap(get_duration, audios['path']))"
   ]
  },
  {
   "cell_type": "code",
   "execution_count": 2,
   "id": "ee89d103-fccd-43b1-a576-383970b5a3f1",
   "metadata": {},
   "outputs": [],
   "source": [
    "audios.sort_values('duration', ascending=False, inplace=True)\n",
    "audios.reset_index(drop=True, inplace=True)\n",
    "\n",
    "validation_index = int(len(audios) * 0.9)\n",
    "train, val = audios[:validation_index], audios[validation_index:]\n",
    "\n",
    "train['path'].to_csv(\"train.data.txt\", header=False, index=False)\n",
    "val['path'].to_csv(\"validation.data.txt\", header=False, index=False)"
   ]
  },
  {
   "cell_type": "markdown",
   "id": "6a7d98a5-1f6f-4182-bb15-52bd6161fd97",
   "metadata": {},
   "source": [
    "## Profiling of loading of dataset"
   ]
  },
  {
   "cell_type": "code",
   "execution_count": 3,
   "id": "2c9148a6-f4f4-439b-81d8-dc603877d92b",
   "metadata": {},
   "outputs": [
    {
     "name": "stderr",
     "output_type": "stream",
     "text": [
      "/home/ambeshs/.conda/envs/dell/lib/python3.10/site-packages/tqdm/auto.py:21: TqdmWarning: IProgress not found. Please update jupyter and ipywidgets. See https://ipywidgets.readthedocs.io/en/stable/user_install.html\n",
      "  from .autonotebook import tqdm as notebook_tqdm\n"
     ]
    }
   ],
   "source": [
    "import torchaudio, torch, os\n",
    "from transformers import Wav2Vec2FeatureExtractor\n",
    "from safetensors.torch import save_file, load_file\n",
    "MODEL_NAME = \"facebook/wav2vec2-large-xlsr-53\"\n",
    "feature_extractor = Wav2Vec2FeatureExtractor.from_pretrained(MODEL_NAME)\n",
    "\n",
    "def process_audio(audio_path):\n",
    "    audio, sr = torchaudio.load(audio_path)\n",
    "    audio = torchaudio.functional.resample(audio, sr, feature_extractor.sampling_rate)\n",
    "    inputs = feature_extractor(\n",
    "        audio[0], \n",
    "        sampling_rate=feature_extractor.sampling_rate, \n",
    "        max_length=20*feature_extractor.sampling_rate, \n",
    "        return_tensors=\"pt\",\n",
    "        truncation=True\n",
    "    )\n",
    "    batch = {\n",
    "        \"input_values\": inputs.input_values[0],\n",
    "    }\n",
    "    if inputs.attention_mask is not None:\n",
    "        batch[\"attention_mask\"] = inputs.attention_mask[0]\n",
    "    \n",
    "    return batch"
   ]
  },
  {
   "cell_type": "code",
   "execution_count": 4,
   "id": "7a1228a8-cc53-4bba-a958-a0c518ba00b5",
   "metadata": {},
   "outputs": [
    {
     "name": "stdout",
     "output_type": "stream",
     "text": [
      "CPU times: user 415 ms, sys: 19.7 ms, total: 434 ms\n",
      "Wall time: 138 ms\n"
     ]
    }
   ],
   "source": [
    "%%time\n",
    "batch = process_audio(\"v1/Assamese/v1a/train/2533274790396330.wav\")"
   ]
  },
  {
   "cell_type": "code",
   "execution_count": 9,
   "id": "3e8aa178-b5d3-496f-b1c3-8888d903b451",
   "metadata": {},
   "outputs": [],
   "source": [
    "from safetensors.torch import load_file, save_file\n",
    "save_file(batch, \"v1/Assamese/v1a/train/2533274790396330.safetensors\")"
   ]
  },
  {
   "cell_type": "code",
   "execution_count": 10,
   "id": "3c591188-c285-49f6-ab77-8634e33c78dd",
   "metadata": {},
   "outputs": [
    {
     "name": "stdout",
     "output_type": "stream",
     "text": [
      "CPU times: user 6.49 ms, sys: 0 ns, total: 6.49 ms\n",
      "Wall time: 52.1 ms\n"
     ]
    }
   ],
   "source": [
    "%%time\n",
    "batch = load_file(\"v1/Assamese/v1a/train/2533274790396330.safetensors\")"
   ]
  },
  {
   "cell_type": "code",
   "execution_count": null,
   "id": "d538313b-361c-4af8-96f8-6511cc239204",
   "metadata": {},
   "outputs": [],
   "source": []
  }
 ],
 "metadata": {
  "kernelspec": {
   "display_name": "Python 3 (ipykernel)",
   "language": "python",
   "name": "python3"
  },
  "language_info": {
   "codemirror_mode": {
    "name": "ipython",
    "version": 3
   },
   "file_extension": ".py",
   "mimetype": "text/x-python",
   "name": "python",
   "nbconvert_exporter": "python",
   "pygments_lexer": "ipython3",
   "version": "3.10.9"
  }
 },
 "nbformat": 4,
 "nbformat_minor": 5
}
